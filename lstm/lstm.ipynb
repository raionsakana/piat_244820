{
 "cells": [
  {
   "cell_type": "code",
   "execution_count": 1,
   "outputs": [
    {
     "name": "stderr",
     "output_type": "stream",
     "text": [
      "C:\\Users\\Patryk Janowski\\repos\\mgr\\tensorflow\\piat\\venv\\lib\\site-packages\\scipy\\__init__.py:173: UserWarning: A NumPy version >=1.19.5 and <1.27.0 is required for this version of SciPy (detected version 1.19.2)\n",
      "  warnings.warn(f\"A NumPy version >={np_minversion} and <{np_maxversion}\"\n"
     ]
    }
   ],
   "source": [
    "from utils import TextUtils, StoryLSTM, TextGenerator"
   ],
   "metadata": {
    "collapsed": false,
    "ExecuteTime": {
     "end_time": "2023-09-14T18:53:46.825626900Z",
     "start_time": "2023-09-14T18:53:41.415592400Z"
    }
   },
   "id": "4e630c19a708438f"
  },
  {
   "cell_type": "code",
   "execution_count": 3,
   "outputs": [
    {
     "name": "stdout",
     "output_type": "stream",
     "text": [
      "corpus length: 437276\n"
     ]
    }
   ],
   "source": [
    "with open('bajki.txt', encoding='utf-8') as f:\n",
    "    text = f.read().lower()\n",
    "\n",
    "print('corpus length:', len(text))"
   ],
   "metadata": {
    "collapsed": false,
    "ExecuteTime": {
     "end_time": "2023-09-14T18:54:13.712728800Z",
     "start_time": "2023-09-14T18:54:13.692728800Z"
    }
   },
   "id": "6537460e4feae2f4"
  },
  {
   "cell_type": "code",
   "execution_count": 4,
   "outputs": [
    {
     "name": "stdout",
     "output_type": "stream",
     "text": [
      "Number of unique words: 15987\n"
     ]
    },
    {
     "data": {
      "text/plain": "92813"
     },
     "execution_count": 4,
     "metadata": {},
     "output_type": "execute_result"
    }
   ],
   "source": [
    "X, y = TextUtils().generate_dataset(text, save_vocab=True)\n",
    "len(X)"
   ],
   "metadata": {
    "collapsed": false,
    "ExecuteTime": {
     "end_time": "2023-09-14T18:54:25.170731300Z",
     "start_time": "2023-09-14T18:54:14.607727800Z"
    }
   },
   "id": "d0f61fccbcb19249"
  },
  {
   "cell_type": "code",
   "execution_count": 4,
   "outputs": [],
   "source": [
    "model = StoryLSTM(length=15_987)\n",
    "model.compile(loss='categorical_crossentropy', optimizer='adam')"
   ],
   "metadata": {
    "collapsed": false,
    "ExecuteTime": {
     "end_time": "2023-09-14T17:50:29.751258700Z",
     "start_time": "2023-09-14T17:50:29.320264800Z"
    }
   },
   "id": "6d3f57043ebf92de"
  },
  {
   "cell_type": "code",
   "execution_count": 5,
   "outputs": [
    {
     "ename": "ValueError",
     "evalue": "Unable to load weights saved in HDF5 format into a subclassed Model which has not created its variables yet. Call the Model first, then load the weights.",
     "output_type": "error",
     "traceback": [
      "\u001B[1;31m---------------------------------------------------------------------------\u001B[0m",
      "\u001B[1;31mValueError\u001B[0m                                Traceback (most recent call last)",
      "Cell \u001B[1;32mIn[5], line 1\u001B[0m\n\u001B[1;32m----> 1\u001B[0m \u001B[43mmodel\u001B[49m\u001B[38;5;241;43m.\u001B[39;49m\u001B[43mload_weights\u001B[49m\u001B[43m(\u001B[49m\u001B[38;5;124;43m'\u001B[39;49m\u001B[38;5;124;43mweights/model_final1.h5\u001B[39;49m\u001B[38;5;124;43m'\u001B[39;49m\u001B[43m)\u001B[49m\n",
      "File \u001B[1;32m~\\repos\\mgr\\piat\\venv\\lib\\site-packages\\keras\\src\\utils\\traceback_utils.py:70\u001B[0m, in \u001B[0;36mfilter_traceback.<locals>.error_handler\u001B[1;34m(*args, **kwargs)\u001B[0m\n\u001B[0;32m     67\u001B[0m     filtered_tb \u001B[38;5;241m=\u001B[39m _process_traceback_frames(e\u001B[38;5;241m.\u001B[39m__traceback__)\n\u001B[0;32m     68\u001B[0m     \u001B[38;5;66;03m# To get the full stack trace, call:\u001B[39;00m\n\u001B[0;32m     69\u001B[0m     \u001B[38;5;66;03m# `tf.debugging.disable_traceback_filtering()`\u001B[39;00m\n\u001B[1;32m---> 70\u001B[0m     \u001B[38;5;28;01mraise\u001B[39;00m e\u001B[38;5;241m.\u001B[39mwith_traceback(filtered_tb) \u001B[38;5;28;01mfrom\u001B[39;00m \u001B[38;5;28;01mNone\u001B[39;00m\n\u001B[0;32m     71\u001B[0m \u001B[38;5;28;01mfinally\u001B[39;00m:\n\u001B[0;32m     72\u001B[0m     \u001B[38;5;28;01mdel\u001B[39;00m filtered_tb\n",
      "File \u001B[1;32m~\\repos\\mgr\\piat\\venv\\lib\\site-packages\\keras\\src\\saving\\legacy\\save.py:480\u001B[0m, in \u001B[0;36mload_weights\u001B[1;34m(model, filepath, by_name, skip_mismatch, options)\u001B[0m\n\u001B[0;32m    475\u001B[0m     \u001B[38;5;28;01mraise\u001B[39;00m \u001B[38;5;167;01mImportError\u001B[39;00m(\n\u001B[0;32m    476\u001B[0m         \u001B[38;5;124m\"\u001B[39m\u001B[38;5;124m`load_weights` requires h5py package when loading weights \u001B[39m\u001B[38;5;124m\"\u001B[39m\n\u001B[0;32m    477\u001B[0m         \u001B[38;5;124m\"\u001B[39m\u001B[38;5;124mfrom HDF5. Try installing h5py.\u001B[39m\u001B[38;5;124m\"\u001B[39m\n\u001B[0;32m    478\u001B[0m     )\n\u001B[0;32m    479\u001B[0m \u001B[38;5;28;01mif\u001B[39;00m \u001B[38;5;129;01mnot\u001B[39;00m model\u001B[38;5;241m.\u001B[39m_is_graph_network \u001B[38;5;129;01mand\u001B[39;00m \u001B[38;5;129;01mnot\u001B[39;00m model\u001B[38;5;241m.\u001B[39mbuilt:\n\u001B[1;32m--> 480\u001B[0m     \u001B[38;5;28;01mraise\u001B[39;00m \u001B[38;5;167;01mValueError\u001B[39;00m(\n\u001B[0;32m    481\u001B[0m         \u001B[38;5;124m\"\u001B[39m\u001B[38;5;124mUnable to load weights saved in HDF5 format into a \u001B[39m\u001B[38;5;124m\"\u001B[39m\n\u001B[0;32m    482\u001B[0m         \u001B[38;5;124m\"\u001B[39m\u001B[38;5;124msubclassed Model which has not created its variables yet. \u001B[39m\u001B[38;5;124m\"\u001B[39m\n\u001B[0;32m    483\u001B[0m         \u001B[38;5;124m\"\u001B[39m\u001B[38;5;124mCall the Model first, then load the weights.\u001B[39m\u001B[38;5;124m\"\u001B[39m\n\u001B[0;32m    484\u001B[0m     )\n\u001B[0;32m    485\u001B[0m model\u001B[38;5;241m.\u001B[39m_assert_weights_created()\n\u001B[0;32m    486\u001B[0m \u001B[38;5;28;01mwith\u001B[39;00m h5py\u001B[38;5;241m.\u001B[39mFile(filepath, \u001B[38;5;124m\"\u001B[39m\u001B[38;5;124mr\u001B[39m\u001B[38;5;124m\"\u001B[39m) \u001B[38;5;28;01mas\u001B[39;00m f:\n",
      "\u001B[1;31mValueError\u001B[0m: Unable to load weights saved in HDF5 format into a subclassed Model which has not created its variables yet. Call the Model first, then load the weights."
     ]
    }
   ],
   "source": [
    "model.load_weights('weights/model.h5')"
   ],
   "metadata": {
    "collapsed": false,
    "ExecuteTime": {
     "end_time": "2023-09-13T21:16:14.578230500Z",
     "start_time": "2023-09-13T21:16:13.063036700Z"
    }
   },
   "id": "a78f9bc7c82f0500"
  },
  {
   "cell_type": "code",
   "execution_count": 5,
   "outputs": [
    {
     "name": "stdout",
     "output_type": "stream",
     "text": [
      "Epoch 1/30\n",
      "726/726 [==============================] - 79s 109ms/step - loss: 7.0877\n",
      "Epoch 2/30\n",
      "726/726 [==============================] - 78s 107ms/step - loss: 6.6080\n",
      "Epoch 3/30\n",
      "726/726 [==============================] - 78s 108ms/step - loss: 6.3548\n",
      "Epoch 4/30\n",
      "726/726 [==============================] - 78s 108ms/step - loss: 6.1573\n",
      "Epoch 5/30\n",
      "726/726 [==============================] - 78s 107ms/step - loss: 6.0018\n",
      "Epoch 6/30\n",
      "726/726 [==============================] - 76s 105ms/step - loss: 5.8584\n",
      "Epoch 7/30\n",
      "726/726 [==============================] - 77s 106ms/step - loss: 5.7129\n",
      "Epoch 8/30\n",
      "726/726 [==============================] - 79s 109ms/step - loss: 5.5688\n",
      "Epoch 9/30\n",
      "726/726 [==============================] - 77s 107ms/step - loss: 5.4305\n",
      "Epoch 10/30\n",
      "726/726 [==============================] - 77s 105ms/step - loss: 5.2962\n",
      "Epoch 11/30\n",
      "726/726 [==============================] - 75s 104ms/step - loss: 5.1677\n",
      "Epoch 12/30\n",
      "726/726 [==============================] - 80s 110ms/step - loss: 5.0427\n",
      "Epoch 13/30\n",
      "726/726 [==============================] - 79s 109ms/step - loss: 4.9217\n",
      "Epoch 14/30\n",
      "726/726 [==============================] - 79s 109ms/step - loss: 4.8052\n",
      "Epoch 15/30\n",
      "726/726 [==============================] - 78s 108ms/step - loss: 4.6934\n",
      "Epoch 16/30\n",
      "726/726 [==============================] - 82s 113ms/step - loss: 4.5812\n",
      "Epoch 17/30\n",
      "726/726 [==============================] - 122s 169ms/step - loss: 4.4761\n",
      "Epoch 18/30\n",
      "726/726 [==============================] - 101s 139ms/step - loss: 4.3739\n",
      "Epoch 19/30\n",
      "726/726 [==============================] - 81s 112ms/step - loss: 4.2742\n",
      "Epoch 20/30\n",
      "726/726 [==============================] - 78s 108ms/step - loss: 4.1763\n",
      "Epoch 21/30\n",
      "726/726 [==============================] - 98s 135ms/step - loss: 4.0847\n",
      "Epoch 22/30\n",
      "726/726 [==============================] - 82s 113ms/step - loss: 4.0004\n",
      "Epoch 23/30\n",
      "726/726 [==============================] - 82s 113ms/step - loss: 3.9144\n",
      "Epoch 24/30\n",
      "726/726 [==============================] - 81s 111ms/step - loss: 3.8336\n",
      "Epoch 25/30\n",
      "726/726 [==============================] - 83s 114ms/step - loss: 3.7596\n",
      "Epoch 26/30\n",
      "726/726 [==============================] - 83s 115ms/step - loss: 3.6888\n",
      "Epoch 27/30\n",
      "726/726 [==============================] - 81s 111ms/step - loss: 3.6202\n",
      "Epoch 28/30\n",
      "726/726 [==============================] - 81s 112ms/step - loss: 3.5554\n",
      "Epoch 29/30\n",
      "726/726 [==============================] - 84s 115ms/step - loss: 3.4954\n",
      "Epoch 30/30\n",
      "726/726 [==============================] - 83s 115ms/step - loss: 3.4385\n"
     ]
    },
    {
     "data": {
      "text/plain": "<tensorflow.python.keras.callbacks.History at 0x1f21bec2040>"
     },
     "execution_count": 5,
     "metadata": {},
     "output_type": "execute_result"
    }
   ],
   "source": [
    "model.fit(X, y, batch_size=128, epochs=30)"
   ],
   "metadata": {
    "collapsed": false,
    "ExecuteTime": {
     "end_time": "2023-09-14T18:32:11.237833Z",
     "start_time": "2023-09-14T17:50:49.263261800Z"
    }
   },
   "id": "89de1aca409c53d3"
  },
  {
   "cell_type": "code",
   "execution_count": 6,
   "outputs": [],
   "source": [
    "model.save_weights('weights/model.h5')"
   ],
   "metadata": {
    "collapsed": false,
    "ExecuteTime": {
     "end_time": "2023-09-14T18:37:53.159256900Z",
     "start_time": "2023-09-14T18:37:53.105262600Z"
    }
   },
   "id": "bfc0fd5903b56546"
  },
  {
   "cell_type": "code",
   "execution_count": 5,
   "outputs": [],
   "source": [
    "text_generator = TextGenerator(model_filepath='weights/model.h5')"
   ],
   "metadata": {
    "collapsed": false,
    "ExecuteTime": {
     "end_time": "2023-09-14T18:54:31.820725500Z",
     "start_time": "2023-09-14T18:54:30.699727100Z"
    }
   },
   "id": "813d1ab58d8b09b9"
  },
  {
   "cell_type": "code",
   "execution_count": 7,
   "outputs": [
    {
     "name": "stdout",
     "output_type": "stream",
     "text": [
      "dawno dawno temu z tym serca . \" zmartwił sobie po ciemności i na to tęgie dni ? na to jednak wziął , a tu zośka rosła się do króla i rzekł do głosem w tej blasku przechodzące cienie w świat mieszkania , które jej tak na nim . \" zaś w południe się mu było , jedzącym skrzydeł kładzie wydawały z nim \" ! ale na tę miedzy się zamienił na lasy na siebie i w znajomym liści i pełnym nasłuchiwać na potężnym , mocnym panem… i w jasnej ciszy włożywszy z dziećmi . i przeglądają na czterech rozwarł urwała na młodej "
     ]
    }
   ],
   "source": [
    "text_generator.generate_story('dawno dawno temu', 100)\n"
   ],
   "metadata": {
    "collapsed": false,
    "ExecuteTime": {
     "end_time": "2023-09-14T18:55:01.575274Z",
     "start_time": "2023-09-14T18:54:47.460278Z"
    }
   },
   "id": "b84ed4b2aa507eda"
  },
  {
   "cell_type": "code",
   "execution_count": 9,
   "outputs": [],
   "source": [],
   "metadata": {
    "collapsed": false,
    "ExecuteTime": {
     "end_time": "2023-09-12T11:11:19.800643600Z",
     "start_time": "2023-09-12T11:11:19.775639800Z"
    }
   },
   "id": "28ee7df123902eda"
  }
 ],
 "metadata": {
  "kernelspec": {
   "display_name": "Python 3",
   "language": "python",
   "name": "python3"
  },
  "language_info": {
   "codemirror_mode": {
    "name": "ipython",
    "version": 2
   },
   "file_extension": ".py",
   "mimetype": "text/x-python",
   "name": "python",
   "nbconvert_exporter": "python",
   "pygments_lexer": "ipython2",
   "version": "2.7.6"
  }
 },
 "nbformat": 4,
 "nbformat_minor": 5
}
